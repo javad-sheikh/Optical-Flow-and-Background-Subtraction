{
 "cells": [
  {
   "cell_type": "code",
   "execution_count": 8,
   "metadata": {},
   "outputs": [],
   "source": [
    "import numpy as np\n",
    "import cv2 as cv2\n",
    "import matplotlib.pyplot as plt"
   ]
  },
  {
   "cell_type": "code",
   "execution_count": 9,
   "metadata": {},
   "outputs": [],
   "source": [
    "import glob\n",
    "birds = sorted(glob.glob(\"JPEGS/birds/*.jpg\"))\n",
    "bottle = sorted(glob.glob(\"JPEGS/bottle/*.jpg\"))\n",
    "cyclists = sorted(glob.glob(\"JPEGS/cyclists/*.jpg\"))\n",
    "surf = sorted(glob.glob(\"JPEGS/surf/*.jpg\"))"
   ]
  },
  {
   "source": [
    "# Optical flow Shi-Tomas"
   ],
   "cell_type": "markdown",
   "metadata": {}
  },
  {
   "cell_type": "code",
   "execution_count": 10,
   "metadata": {},
   "outputs": [],
   "source": [
    "def find_and_save_lucas_kanade(frames,name):\n",
    "    # params for ShiTomasi corner detection\n",
    "    feature_params = dict( maxCorners = 100,\n",
    "                           qualityLevel = 0.6,\n",
    "                           minDistance = 50,\n",
    "                           blockSize = 5 )\n",
    "    # Parameters for lucas kanade optical flow\n",
    "    lk_params = dict( winSize  = (30,30),\n",
    "                      maxLevel = 2,\n",
    "                      criteria = (cv2.TERM_CRITERIA_EPS | cv2.TERM_CRITERIA_COUNT, 10, 0.03),\n",
    "                      flags=0)\n",
    "    # Create some random colors\n",
    "    color = np.random.randint(0,255,(100,3))\n",
    "\n",
    "    # Take first frame and find corners in it\n",
    "    old_frame = cv2.imread(frames[0],0)\n",
    "\n",
    "    p0 = cv2.goodFeaturesToTrack(old_frame, mask = None, **feature_params)\n",
    "\n",
    "\n",
    "    # Create a mask image for drawing purposes\n",
    "    mask = np.zeros_like(cv2.cvtColor(old_frame,cv2.COLOR_GRAY2RGB))\n",
    "    # Default resolutions of the frame are obtained.The default resolutions are system dependent.\n",
    "    # We convert the resolutions from float to integer.\n",
    "    frame_width = int(old_frame.shape[0])\n",
    "    frame_height = int(old_frame.shape[1])\n",
    "\n",
    "    #### Initialize writing video\n",
    "    vid_name = \"results/lucas_kanade_\"+name+'.avi'\n",
    "    out = cv2.VideoWriter(vid_name,cv2.VideoWriter_fourcc(*'mp4v'), 10, (frame_width,frame_height))\n",
    "\n",
    "    for frame in frames[1:]:\n",
    "        new_frame = cv2.imread(frame,0)\n",
    "\n",
    "        # calculate optical flow\n",
    "        p1, st, err = cv2.calcOpticalFlowPyrLK(old_frame, new_frame, p0,                                                                              cv2.OPTFLOW_LK_GET_MIN_EIGENVALS, **lk_params)\n",
    "        \n",
    "        # # calculate optical flow\n",
    "        # p1, st, err = cv2.calcOpticalFlowPyrLK(old_frame, new_frame, p0,                                                                              cv2.OPTFLOW_USE_INITIAL_FLOW, **lk_params)\n",
    "        try:\n",
    "            # Select good points\n",
    "            good_new = p1[st==1]\n",
    "            good_old = p0[st==1]\n",
    "\n",
    "            # draw the tracks\n",
    "            for i,(new,old) in enumerate(zip(good_new, good_old)):\n",
    "                a,b = new.ravel()\n",
    "                c,d = old.ravel()\n",
    "                mask = cv2.line(mask, (a,b),(c,d), color[i].tolist(), 2)\n",
    "                new_frame = cv2.circle(new_frame,(a,b),5,color[i].tolist(),-1)\n",
    "            img = cv2.add(cv.cvtColor(new_frame,cv2.COLOR_GRAY2RGB),mask)\n",
    "            cv2.imshow('frame',img)\n",
    "            \n",
    "            #### Write video as file\n",
    "            outframe = cv2.resize(img,(frame_width,frame_height))\n",
    "            out.write(outframe)\n",
    "\n",
    "            # Now update the previous frame and previous points\n",
    "            old_frame = new_frame.copy()\n",
    "            p0 = good_new.reshape(-1,1,2)\n",
    "            if cv2.waitKey(100) & 0xFF == ord('q'):\n",
    "                break\n",
    "        except:\n",
    "            pass\n",
    "    out.release()\n",
    "    cv2.destroyAllWindows()"
   ]
  },
  {
   "cell_type": "code",
   "execution_count": 11,
   "metadata": {},
   "outputs": [],
   "source": [
    "find_and_save_lucas_kanade(cyclists,\"cyclists\")\n",
    "find_and_save_lucas_kanade(birds,\"birds\")\n",
    "find_and_save_lucas_kanade(bottle,\"bottle\")\n",
    "find_and_save_lucas_kanade(surf,\"surf\")"
   ]
  },
  {
   "source": [
    "## Farneback Optical Flow"
   ],
   "cell_type": "markdown",
   "metadata": {}
  },
  {
   "cell_type": "code",
   "execution_count": 13,
   "metadata": {},
   "outputs": [],
   "source": [
    "def find_and_save_Farneback(frames,name):\n",
    "    old_frame = cv2.imread(frames[0],0)\n",
    "    hsv = np.zeros_like(cv2.cvtColor(old_frame,cv2.COLOR_GRAY2RGB))\n",
    "    hsv[..., 1] = 255\n",
    "    \n",
    "    # Default resolutions of the frame are obtained.The default resolutions are system dependent.\n",
    "    # We convert the resolutions from float to integer.\n",
    "    frame_width = int(old_frame.shape[0])\n",
    "    frame_height = int(old_frame.shape[1])\n",
    "\n",
    "    #### Initialize writing video\n",
    "    vid_name = \"results/Farneback_\"+name+'.avi'\n",
    "    out = cv2.VideoWriter(vid_name,cv2.VideoWriter_fourcc(*'mp4v'), 10, (frame_width,frame_height))\n",
    "\n",
    "    for frame in frames[1:]:\n",
    "        new_frame = cv2.imread(frame,0)\n",
    "        flow = cv2.calcOpticalFlowFarneback(\n",
    "                    old_frame, new_frame, None, 0.5, 3, 15, 3, 5, 1.2, 2)\n",
    "\n",
    "        mag, ang = cv2.cartToPolar(flow[..., 0], flow[..., 1])\n",
    "        hsv[..., 0] = ang*180/np.pi/2\n",
    "        hsv[..., 2] = cv2.normalize(mag, None, 0, 255, cv2.NORM_MINMAX)\n",
    "        bgr = cv2.cvtColor(hsv, cv2.COLOR_HSV2BGR)\n",
    "        cv2.imshow('frame2', bgr)\n",
    "\n",
    "        outframe = cv2.resize(bgr,(frame_width,frame_height))\n",
    "        out.write(outframe)\n",
    "\n",
    "        old_frame = new_frame\n",
    "        out.write(bgr)\n",
    "        if cv2.waitKey(200) & 0xFF == ord('q'):\n",
    "                break\n",
    "    out.release()\n",
    "    cv2.destroyAllWindows()"
   ]
  },
  {
   "cell_type": "code",
   "execution_count": 14,
   "metadata": {},
   "outputs": [],
   "source": [
    "find_and_save_Farneback(cyclists,\"cyclists\")\n",
    "find_and_save_Farneback(birds,\"birds\")\n",
    "find_and_save_Farneback(bottle,\"bottle\")\n",
    "find_and_save_Farneback(surf,\"surf\")"
   ]
  },
  {
   "source": [
    "# Background Subtraction"
   ],
   "cell_type": "markdown",
   "metadata": {}
  },
  {
   "source": [
    "## MOG"
   ],
   "cell_type": "markdown",
   "metadata": {}
  },
  {
   "cell_type": "code",
   "execution_count": 15,
   "metadata": {},
   "outputs": [],
   "source": [
    "def backgounrd_subtractionMOG(frames,name):\n",
    "    fgbg = cv2.bgsegm.createBackgroundSubtractorMOG(nmixtures=5)\n",
    "\n",
    "    frame = cv2.imread(frames[0],0)\n",
    "    frame_width = int(frame.shape[0])\n",
    "    frame_height = int(frame.shape[1])\n",
    "\n",
    "    #### Initialize writing video\n",
    "    vid_name = \"results/MOG_\"+name+'.avi'\n",
    "    out = cv2.VideoWriter(vid_name,cv2.VideoWriter_fourcc(*'mp4v'), 10, (frame_width,frame_height))\n",
    "\n",
    "    for frame in frames:\n",
    "        new_frame = cv2.imread(frame,0)\n",
    "        fgmask = fgbg.apply(new_frame)\n",
    "        new_frame[np.where(fgmask==0)]=0\n",
    "        outframe = cv2.resize(new_frame,(frame_width,frame_height))\n",
    "        outframe = cv2.cvtColor(outframe, cv2.COLOR_GRAY2BGR)\n",
    "        out.write(outframe)\n",
    "        cv2.imshow('frame', new_frame)\n",
    "        if cv2.waitKey(200) & 0xFF == ord('q'):\n",
    "                break\n",
    "    out.release()\n",
    "    cv2.destroyAllWindows()"
   ]
  },
  {
   "cell_type": "code",
   "execution_count": 16,
   "metadata": {},
   "outputs": [],
   "source": [
    "backgounrd_subtractionMOG(cyclists,\"cyclists\")\n",
    "backgounrd_subtractionMOG(birds,\"birds\")\n",
    "backgounrd_subtractionMOG(bottle,\"bottle\")\n",
    "backgounrd_subtractionMOG(surf,\"surf\")"
   ]
  },
  {
   "source": [
    "## MOG2"
   ],
   "cell_type": "markdown",
   "metadata": {}
  },
  {
   "cell_type": "code",
   "execution_count": 17,
   "metadata": {},
   "outputs": [],
   "source": [
    "def backgounrd_subtractionMOG2(frames,name):\n",
    "\n",
    "    fgbg = cv2.createBackgroundSubtractorMOG2(\n",
    "            history=100, varThreshold=25, detectShadows=False)\n",
    "\n",
    "    frame = cv2.imread(frames[0],0)\n",
    "    frame_width = int(frame.shape[0])\n",
    "    frame_height = int(frame.shape[1])\n",
    "\n",
    "    #### Initialize writing video\n",
    "    vid_name = \"results/MOG2_\"+name+'.avi'\n",
    "    out = cv2.VideoWriter(vid_name,cv2.VideoWriter_fourcc(*'mp4v'), 10, (frame_width,frame_height))\n",
    "\n",
    "    for frame in frames:\n",
    "        new_frame = cv2.imread(frame,0)\n",
    "        fgmask = fgbg.apply(new_frame)\n",
    "        new_frame[np.where(fgmask==0)]=0\n",
    "        outframe = cv2.resize(new_frame,(frame_width,frame_height))\n",
    "        outframe = cv2.cvtColor(outframe, cv2.COLOR_GRAY2BGR)\n",
    "        out.write(outframe)\n",
    "        cv2.imshow('frame', new_frame)\n",
    "        if cv2.waitKey(200) & 0xFF == ord('q'):\n",
    "                break\n",
    "    out.release()\n",
    "    cv2.destroyAllWindows()"
   ]
  },
  {
   "cell_type": "code",
   "execution_count": 18,
   "metadata": {},
   "outputs": [],
   "source": [
    "backgounrd_subtractionMOG2(cyclists,\"cyclists\")\n",
    "backgounrd_subtractionMOG2(birds,\"birds\")\n",
    "backgounrd_subtractionMOG2(bottle,\"bottle\")\n",
    "backgounrd_subtractionMOG2(surf,\"surf\")"
   ]
  },
  {
   "source": [
    "## GMG"
   ],
   "cell_type": "markdown",
   "metadata": {}
  },
  {
   "cell_type": "code",
   "execution_count": 19,
   "metadata": {},
   "outputs": [],
   "source": [
    "def backgounrd_subtractionGMG(frames,name):\n",
    "\n",
    "    kernel = cv2.getStructuringElement(cv2.MORPH_ELLIPSE,(3,3))\n",
    "    fgbg = cv2.bgsegm.createBackgroundSubtractorGMG(initializationFrames = 1,\n",
    "                                                    decisionThreshold = 0.7)\n",
    "    frame = cv2.imread(frames[0],0)\n",
    "    frame_width = int(frame.shape[0])\n",
    "    frame_height = int(frame.shape[1])\n",
    "\n",
    "    #### Initialize writing video\n",
    "    vid_name = \"results/GMG_\"+name+'.avi'\n",
    "    out = cv2.VideoWriter(vid_name,cv2.VideoWriter_fourcc(*'mp4v'), 10, (frame_width,frame_height))\n",
    "\n",
    "    for frame in frames:\n",
    "        new_frame = cv2.imread(frame,0)\n",
    "        fgmask = fgbg.apply(new_frame)\n",
    "        fgmask = cv2.morphologyEx(fgmask, cv2.MORPH_OPEN, kernel)\n",
    "\n",
    "        new_frame[np.where(fgmask==0)]=0\n",
    "\n",
    "        outframe = cv2.resize(new_frame,(frame_width,frame_height))\n",
    "        outframe = cv2.cvtColor(outframe, cv2.COLOR_GRAY2BGR)\n",
    "        out.write(outframe)\n",
    "        cv2.imshow('frame', new_frame)\n",
    "        if cv2.waitKey(10) & 0xFF == ord('q'):\n",
    "                break\n",
    "    out.release()\n",
    "    cv2.destroyAllWindows()"
   ]
  },
  {
   "cell_type": "code",
   "execution_count": 20,
   "metadata": {},
   "outputs": [],
   "source": [
    "backgounrd_subtractionGMG(cyclists,\"cyclists\")\n",
    "backgounrd_subtractionGMG(birds,\"birds\")\n",
    "backgounrd_subtractionGMG(bottle,\"bottle\")\n",
    "backgounrd_subtractionGMG(surf,\"surf\")"
   ]
  },
  {
   "cell_type": "code",
   "execution_count": null,
   "metadata": {},
   "outputs": [],
   "source": []
  }
 ],
 "metadata": {
  "kernelspec": {
   "display_name": "Python 3",
   "language": "python",
   "name": "python3"
  },
  "language_info": {
   "codemirror_mode": {
    "name": "ipython",
    "version": 3
   },
   "file_extension": ".py",
   "mimetype": "text/x-python",
   "name": "python",
   "nbconvert_exporter": "python",
   "pygments_lexer": "ipython3",
   "version": "3.7.7-final"
  }
 },
 "nbformat": 4,
 "nbformat_minor": 2
}